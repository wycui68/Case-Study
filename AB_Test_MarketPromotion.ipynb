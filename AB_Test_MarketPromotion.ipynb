{
  "nbformat": 4,
  "nbformat_minor": 0,
  "metadata": {
    "colab": {
      "name": "AB Test_MarketPromotion.ipynb",
      "provenance": [],
      "authorship_tag": "ABX9TyMQOH2J0GdPT6DmNXcaFSIy",
      "include_colab_link": true
    },
    "kernelspec": {
      "name": "python3",
      "display_name": "Python 3"
    }
  },
  "cells": [
    {
      "cell_type": "markdown",
      "metadata": {
        "id": "view-in-github",
        "colab_type": "text"
      },
      "source": [
        "<a href=\"https://colab.research.google.com/github/wycui68/Case-Study/blob/main/AB_Test_MarketPromotion.ipynb\" target=\"_parent\"><img src=\"https://colab.research.google.com/assets/colab-badge.svg\" alt=\"Open In Colab\"/></a>"
      ]
    },
    {
      "cell_type": "markdown",
      "metadata": {
        "id": "OLw9Pmr44Qug"
      },
      "source": [
        "# A/B Testing Market Promotions\r\n",
        "\r\n",
        "Which promotion was the most effective?\r\n",
        "\r\n",
        "**Scenario:**\r\n",
        "\r\n",
        "A fast food chain plans to add a new item to its menu. However, they are still undecided between three possible marketing campaigns for promoting the new product. In order to determine which promotion has the greatest effect on sales, the new item is introduced at locations in several randomly selected markets. A different promotion is used at each location, and the weekly sales of the new item are recorded for the first four weeks\r\n",
        "\r\n",
        "**The description of the data set:**\r\n",
        "Our data set consists of 548 entries including:\r\n",
        "- MarketId: an inhouse tag used to describe market types, we won't be using it\r\n",
        "- AgeOfStores: Age of store in years (1–28). The mean age of a store is 8.5 years.\r\n",
        "- LocationID: Unique identifier for store location. Each location is identified by a number. The total number of stores is 137.\r\n",
        "- Promotion: One of three promotions that were tested (1, 2, 3). We don’t really know the specifics of each promotion.\r\n",
        "- Sales in Thousands: Sales amount for a specific LocationID, Promotion and week. The mean amount of sales are 53.5 thousand dollars.\r\n",
        "- Market size: there are three types of market size: small, medium and large.\r\n",
        "- Week: One of four weeks when the promotions were run (1–4)."
      ]
    },
    {
      "cell_type": "code",
      "metadata": {
        "colab": {
          "base_uri": "https://localhost:8080/",
          "height": 343
        },
        "id": "1HM0dZHD2eNR",
        "outputId": "65c2469c-2d09-4d62-bdc4-3d59d0c70af2"
      },
      "source": [
        "import pandas as pd\r\n",
        "import matplotlib.pyplot as plt\r\n",
        "\r\n",
        "file_name = \"https://raw.githubusercontent.com/rajeevratan84/datascienceforbusiness/master/WA_Fn-UseC_-Marketing-Campaign-Eff-UseC_-FastF.csv\"\r\n",
        "df = pd.read_csv(file_name)\r\n",
        "\r\n",
        "df.head(10)"
      ],
      "execution_count": 1,
      "outputs": [
        {
          "output_type": "execute_result",
          "data": {
            "text/html": [
              "<div>\n",
              "<style scoped>\n",
              "    .dataframe tbody tr th:only-of-type {\n",
              "        vertical-align: middle;\n",
              "    }\n",
              "\n",
              "    .dataframe tbody tr th {\n",
              "        vertical-align: top;\n",
              "    }\n",
              "\n",
              "    .dataframe thead th {\n",
              "        text-align: right;\n",
              "    }\n",
              "</style>\n",
              "<table border=\"1\" class=\"dataframe\">\n",
              "  <thead>\n",
              "    <tr style=\"text-align: right;\">\n",
              "      <th></th>\n",
              "      <th>MarketID</th>\n",
              "      <th>MarketSize</th>\n",
              "      <th>LocationID</th>\n",
              "      <th>AgeOfStore</th>\n",
              "      <th>Promotion</th>\n",
              "      <th>week</th>\n",
              "      <th>SalesInThousands</th>\n",
              "    </tr>\n",
              "  </thead>\n",
              "  <tbody>\n",
              "    <tr>\n",
              "      <th>0</th>\n",
              "      <td>1</td>\n",
              "      <td>Medium</td>\n",
              "      <td>1</td>\n",
              "      <td>4</td>\n",
              "      <td>3</td>\n",
              "      <td>1</td>\n",
              "      <td>33.73</td>\n",
              "    </tr>\n",
              "    <tr>\n",
              "      <th>1</th>\n",
              "      <td>1</td>\n",
              "      <td>Medium</td>\n",
              "      <td>1</td>\n",
              "      <td>4</td>\n",
              "      <td>3</td>\n",
              "      <td>2</td>\n",
              "      <td>35.67</td>\n",
              "    </tr>\n",
              "    <tr>\n",
              "      <th>2</th>\n",
              "      <td>1</td>\n",
              "      <td>Medium</td>\n",
              "      <td>1</td>\n",
              "      <td>4</td>\n",
              "      <td>3</td>\n",
              "      <td>3</td>\n",
              "      <td>29.03</td>\n",
              "    </tr>\n",
              "    <tr>\n",
              "      <th>3</th>\n",
              "      <td>1</td>\n",
              "      <td>Medium</td>\n",
              "      <td>1</td>\n",
              "      <td>4</td>\n",
              "      <td>3</td>\n",
              "      <td>4</td>\n",
              "      <td>39.25</td>\n",
              "    </tr>\n",
              "    <tr>\n",
              "      <th>4</th>\n",
              "      <td>1</td>\n",
              "      <td>Medium</td>\n",
              "      <td>2</td>\n",
              "      <td>5</td>\n",
              "      <td>2</td>\n",
              "      <td>1</td>\n",
              "      <td>27.81</td>\n",
              "    </tr>\n",
              "    <tr>\n",
              "      <th>5</th>\n",
              "      <td>1</td>\n",
              "      <td>Medium</td>\n",
              "      <td>2</td>\n",
              "      <td>5</td>\n",
              "      <td>2</td>\n",
              "      <td>2</td>\n",
              "      <td>34.67</td>\n",
              "    </tr>\n",
              "    <tr>\n",
              "      <th>6</th>\n",
              "      <td>1</td>\n",
              "      <td>Medium</td>\n",
              "      <td>2</td>\n",
              "      <td>5</td>\n",
              "      <td>2</td>\n",
              "      <td>3</td>\n",
              "      <td>27.98</td>\n",
              "    </tr>\n",
              "    <tr>\n",
              "      <th>7</th>\n",
              "      <td>1</td>\n",
              "      <td>Medium</td>\n",
              "      <td>2</td>\n",
              "      <td>5</td>\n",
              "      <td>2</td>\n",
              "      <td>4</td>\n",
              "      <td>27.72</td>\n",
              "    </tr>\n",
              "    <tr>\n",
              "      <th>8</th>\n",
              "      <td>1</td>\n",
              "      <td>Medium</td>\n",
              "      <td>3</td>\n",
              "      <td>12</td>\n",
              "      <td>1</td>\n",
              "      <td>1</td>\n",
              "      <td>44.54</td>\n",
              "    </tr>\n",
              "    <tr>\n",
              "      <th>9</th>\n",
              "      <td>1</td>\n",
              "      <td>Medium</td>\n",
              "      <td>3</td>\n",
              "      <td>12</td>\n",
              "      <td>1</td>\n",
              "      <td>2</td>\n",
              "      <td>37.94</td>\n",
              "    </tr>\n",
              "  </tbody>\n",
              "</table>\n",
              "</div>"
            ],
            "text/plain": [
              "   MarketID MarketSize  LocationID  ...  Promotion  week  SalesInThousands\n",
              "0         1     Medium           1  ...          3     1             33.73\n",
              "1         1     Medium           1  ...          3     2             35.67\n",
              "2         1     Medium           1  ...          3     3             29.03\n",
              "3         1     Medium           1  ...          3     4             39.25\n",
              "4         1     Medium           2  ...          2     1             27.81\n",
              "5         1     Medium           2  ...          2     2             34.67\n",
              "6         1     Medium           2  ...          2     3             27.98\n",
              "7         1     Medium           2  ...          2     4             27.72\n",
              "8         1     Medium           3  ...          1     1             44.54\n",
              "9         1     Medium           3  ...          1     2             37.94\n",
              "\n",
              "[10 rows x 7 columns]"
            ]
          },
          "metadata": {
            "tags": []
          },
          "execution_count": 1
        }
      ]
    },
    {
      "cell_type": "code",
      "metadata": {
        "colab": {
          "base_uri": "https://localhost:8080/"
        },
        "id": "08E6EZ5b4f4Q",
        "outputId": "9d54dae4-bc32-4638-8df2-98bfd3dff8ff"
      },
      "source": [
        "print (\"Rows     : \" , df.shape[0])\r\n",
        "print (\"Columns  : \" , df.shape[1])\r\n",
        "print (\"\\nFeatures : \\n\", df.columns.tolist())\r\n",
        "print (\"\\nMissing values :  \", df.isnull().sum().values.sum())\r\n",
        "print (\"\\nUnique values :  \\n\", df.nunique())"
      ],
      "execution_count": 2,
      "outputs": [
        {
          "output_type": "stream",
          "text": [
            "Rows     :  548\n",
            "Columns  :  7\n",
            "\n",
            "Features : \n",
            " ['MarketID', 'MarketSize', 'LocationID', 'AgeOfStore', 'Promotion', 'week', 'SalesInThousands']\n",
            "\n",
            "Missing values :   0\n",
            "\n",
            "Unique values :  \n",
            " MarketID             10\n",
            "MarketSize            3\n",
            "LocationID          137\n",
            "AgeOfStore           25\n",
            "Promotion             3\n",
            "week                  4\n",
            "SalesInThousands    517\n",
            "dtype: int64\n"
          ],
          "name": "stdout"
        }
      ]
    },
    {
      "cell_type": "code",
      "metadata": {
        "colab": {
          "base_uri": "https://localhost:8080/",
          "height": 284
        },
        "id": "U2UQ5hWk5L4x",
        "outputId": "c92c47b6-ea16-4e6f-85cc-dfd2cbe34e9a"
      },
      "source": [
        "df.describe()"
      ],
      "execution_count": 3,
      "outputs": [
        {
          "output_type": "execute_result",
          "data": {
            "text/html": [
              "<div>\n",
              "<style scoped>\n",
              "    .dataframe tbody tr th:only-of-type {\n",
              "        vertical-align: middle;\n",
              "    }\n",
              "\n",
              "    .dataframe tbody tr th {\n",
              "        vertical-align: top;\n",
              "    }\n",
              "\n",
              "    .dataframe thead th {\n",
              "        text-align: right;\n",
              "    }\n",
              "</style>\n",
              "<table border=\"1\" class=\"dataframe\">\n",
              "  <thead>\n",
              "    <tr style=\"text-align: right;\">\n",
              "      <th></th>\n",
              "      <th>MarketID</th>\n",
              "      <th>LocationID</th>\n",
              "      <th>AgeOfStore</th>\n",
              "      <th>Promotion</th>\n",
              "      <th>week</th>\n",
              "      <th>SalesInThousands</th>\n",
              "    </tr>\n",
              "  </thead>\n",
              "  <tbody>\n",
              "    <tr>\n",
              "      <th>count</th>\n",
              "      <td>548.000000</td>\n",
              "      <td>548.000000</td>\n",
              "      <td>548.000000</td>\n",
              "      <td>548.000000</td>\n",
              "      <td>548.000000</td>\n",
              "      <td>548.000000</td>\n",
              "    </tr>\n",
              "    <tr>\n",
              "      <th>mean</th>\n",
              "      <td>5.715328</td>\n",
              "      <td>479.656934</td>\n",
              "      <td>8.503650</td>\n",
              "      <td>2.029197</td>\n",
              "      <td>2.500000</td>\n",
              "      <td>53.466204</td>\n",
              "    </tr>\n",
              "    <tr>\n",
              "      <th>std</th>\n",
              "      <td>2.877001</td>\n",
              "      <td>287.973679</td>\n",
              "      <td>6.638345</td>\n",
              "      <td>0.810729</td>\n",
              "      <td>1.119055</td>\n",
              "      <td>16.755216</td>\n",
              "    </tr>\n",
              "    <tr>\n",
              "      <th>min</th>\n",
              "      <td>1.000000</td>\n",
              "      <td>1.000000</td>\n",
              "      <td>1.000000</td>\n",
              "      <td>1.000000</td>\n",
              "      <td>1.000000</td>\n",
              "      <td>17.340000</td>\n",
              "    </tr>\n",
              "    <tr>\n",
              "      <th>25%</th>\n",
              "      <td>3.000000</td>\n",
              "      <td>216.000000</td>\n",
              "      <td>4.000000</td>\n",
              "      <td>1.000000</td>\n",
              "      <td>1.750000</td>\n",
              "      <td>42.545000</td>\n",
              "    </tr>\n",
              "    <tr>\n",
              "      <th>50%</th>\n",
              "      <td>6.000000</td>\n",
              "      <td>504.000000</td>\n",
              "      <td>7.000000</td>\n",
              "      <td>2.000000</td>\n",
              "      <td>2.500000</td>\n",
              "      <td>50.200000</td>\n",
              "    </tr>\n",
              "    <tr>\n",
              "      <th>75%</th>\n",
              "      <td>8.000000</td>\n",
              "      <td>708.000000</td>\n",
              "      <td>12.000000</td>\n",
              "      <td>3.000000</td>\n",
              "      <td>3.250000</td>\n",
              "      <td>60.477500</td>\n",
              "    </tr>\n",
              "    <tr>\n",
              "      <th>max</th>\n",
              "      <td>10.000000</td>\n",
              "      <td>920.000000</td>\n",
              "      <td>28.000000</td>\n",
              "      <td>3.000000</td>\n",
              "      <td>4.000000</td>\n",
              "      <td>99.650000</td>\n",
              "    </tr>\n",
              "  </tbody>\n",
              "</table>\n",
              "</div>"
            ],
            "text/plain": [
              "         MarketID  LocationID  ...        week  SalesInThousands\n",
              "count  548.000000  548.000000  ...  548.000000        548.000000\n",
              "mean     5.715328  479.656934  ...    2.500000         53.466204\n",
              "std      2.877001  287.973679  ...    1.119055         16.755216\n",
              "min      1.000000    1.000000  ...    1.000000         17.340000\n",
              "25%      3.000000  216.000000  ...    1.750000         42.545000\n",
              "50%      6.000000  504.000000  ...    2.500000         50.200000\n",
              "75%      8.000000  708.000000  ...    3.250000         60.477500\n",
              "max     10.000000  920.000000  ...    4.000000         99.650000\n",
              "\n",
              "[8 rows x 6 columns]"
            ]
          },
          "metadata": {
            "tags": []
          },
          "execution_count": 3
        }
      ]
    },
    {
      "cell_type": "markdown",
      "metadata": {
        "id": "rWK_o0pi5Guo"
      },
      "source": [
        "# EDA and Visualization"
      ]
    },
    {
      "cell_type": "code",
      "metadata": {
        "colab": {
          "base_uri": "https://localhost:8080/",
          "height": 483
        },
        "id": "K6Jrdvp04f1H",
        "outputId": "451e701f-38fe-4d19-ead2-8cfef271b87c"
      },
      "source": [
        "plt.style.use(\"ggplot\")\r\n",
        "\r\n",
        "ax = df.groupby(\"Promotion\").sum()[\"SalesInThousands\"].plot.pie(figsize = (8, 8), \r\n",
        "                                                                autopct = \"%1.0f%%\",\r\n",
        "                                                                shadow = True, \r\n",
        "                                                                explode = (0, 0.1, 0))\r\n",
        "\r\n",
        "ax.set_ylabel(\"\")\r\n",
        "ax.set_title(\"Sales Distribution Across the 3 Difference Promotions\")\r\n",
        "\r\n",
        "plt.show()"
      ],
      "execution_count": 5,
      "outputs": [
        {
          "output_type": "display_data",
          "data": {
            "image/png": "[encoded data removed]",
            "text/plain": [
              "<Figure size 576x576 with 1 Axes>"
            ]
          },
          "metadata": {
            "tags": []
          }
        }
      ]
    },
    {
      "cell_type": "code",
      "metadata": {
        "colab": {
          "base_uri": "https://localhost:8080/"
        },
        "id": "aeOd21k04fyY",
        "outputId": "bfacc4d5-e953-4804-985e-e196a6e3668a"
      },
      "source": [
        "# view the promotions for each market size\r\n",
        "\r\n",
        "df.groupby([\"Promotion\", \"MarketSize\"]).count()[\"MarketID\"]"
      ],
      "execution_count": 7,
      "outputs": [
        {
          "output_type": "execute_result",
          "data": {
            "text/plain": [
              "Promotion  MarketSize\n",
              "1          Large          56\n",
              "           Medium         96\n",
              "           Small          20\n",
              "2          Large          64\n",
              "           Medium        108\n",
              "           Small          16\n",
              "3          Large          48\n",
              "           Medium        116\n",
              "           Small          24\n",
              "Name: MarketID, dtype: int64"
            ]
          },
          "metadata": {
            "tags": []
          },
          "execution_count": 7
        }
      ]
    },
    {
      "cell_type": "code",
      "metadata": {
        "colab": {
          "base_uri": "https://localhost:8080/",
          "height": 622
        },
        "id": "yQDihyAP4fwB",
        "outputId": "c5c839de-5745-4000-b479-993ec5bdd767"
      },
      "source": [
        "ax = df.groupby(['Promotion', 'MarketSize']).count()['MarketID'].unstack('MarketSize').plot(\r\n",
        "    kind='bar',\r\n",
        "    figsize=(12,10),\r\n",
        "    grid=True)\r\n",
        "\r\n",
        "ax.set_ylabel('count')\r\n",
        "ax.set_title('breakdowns of market sizes across different promotions')\r\n",
        "\r\n",
        "plt.show()"
      ],
      "execution_count": 8,
      "outputs": [
        {
          "output_type": "display_data",
          "data": {
            "image/png": "[encoded data removed]",
            "text/plain": [
              "<Figure size 864x720 with 1 Axes>"
            ]
          },
          "metadata": {
            "tags": []
          }
        }
      ]
    },
    {
      "cell_type": "code",
      "metadata": {
        "colab": {
          "base_uri": "https://localhost:8080/",
          "height": 465
        },
        "id": "FgxSipT-4ftC",
        "outputId": "3d3a0d3e-a20b-48d0-992e-70a94d1faeb6"
      },
      "source": [
        "ax = df.groupby('AgeOfStore').count()['MarketID'].plot(\r\n",
        "    kind='bar', \r\n",
        "    figsize=(12,7),\r\n",
        "    grid=True)\r\n",
        "\r\n",
        "ax.set_xlabel('age')\r\n",
        "ax.set_ylabel('count')\r\n",
        "ax.set_title('Overall Distributions Store Ages')\r\n",
        "\r\n",
        "plt.show()"
      ],
      "execution_count": 9,
      "outputs": [
        {
          "output_type": "display_data",
          "data": {
            "image/png": "[encoded data removed]",
            "text/plain": [
              "<Figure size 864x504 with 1 Axes>"
            ]
          },
          "metadata": {
            "tags": []
          }
        }
      ]
    },
    {
      "cell_type": "code",
      "metadata": {
        "colab": {
          "base_uri": "https://localhost:8080/"
        },
        "id": "84qJJqHF4fqs",
        "outputId": "6ae9bb80-5589-4d6c-8b9c-133214f143d5"
      },
      "source": [
        "df.groupby([\"AgeOfStore\", \"Promotion\"]).count()[\"MarketID\"]"
      ],
      "execution_count": 11,
      "outputs": [
        {
          "output_type": "execute_result",
          "data": {
            "text/plain": [
              "AgeOfStore  Promotion\n",
              "1           1            24\n",
              "            2            36\n",
              "            3            20\n",
              "2           1             8\n",
              "            2             8\n",
              "            3             4\n",
              "3           1            16\n",
              "            2            12\n",
              "            3             4\n",
              "4           1            16\n",
              "            2            12\n",
              "            3            16\n",
              "5           1             8\n",
              "            2            12\n",
              "            3            24\n",
              "6           1            20\n",
              "            2             4\n",
              "            3            12\n",
              "7           1             4\n",
              "            2            24\n",
              "            3            12\n",
              "8           1            12\n",
              "            2             8\n",
              "            3            20\n",
              "9           1             8\n",
              "            2            12\n",
              "            3             8\n",
              "10          2            16\n",
              "            3             8\n",
              "11          1             4\n",
              "            3            12\n",
              "12          1            12\n",
              "            2             4\n",
              "            3             8\n",
              "13          1            12\n",
              "            2             8\n",
              "14          2             8\n",
              "            3             4\n",
              "15          1             4\n",
              "            2             4\n",
              "17          3             4\n",
              "18          1             8\n",
              "19          1             4\n",
              "            2             8\n",
              "            3             8\n",
              "20          3             4\n",
              "22          1             4\n",
              "            3             8\n",
              "23          2             4\n",
              "            3             4\n",
              "24          1             4\n",
              "            3             8\n",
              "25          2             4\n",
              "27          1             4\n",
              "28          2             4\n",
              "Name: MarketID, dtype: int64"
            ]
          },
          "metadata": {
            "tags": []
          },
          "execution_count": 11
        }
      ]
    },
    {
      "cell_type": "code",
      "metadata": {
        "colab": {
          "base_uri": "https://localhost:8080/",
          "height": 1000
        },
        "id": "V0Iq-UPL4foI",
        "outputId": "1f8bb43d-62db-4401-a689-af15884bbd12"
      },
      "source": [
        "ax = df.groupby(['AgeOfStore', 'Promotion']).count()['MarketID'].unstack('Promotion').iloc[::-1].plot(\r\n",
        "    kind='barh', \r\n",
        "    figsize=(14,18),\r\n",
        "    grid=True)\r\n",
        "\r\n",
        "ax.set_ylabel('age')\r\n",
        "ax.set_xlabel('count')\r\n",
        "ax.set_title('overall distributions of age of store')\r\n",
        "\r\n",
        "plt.show()"
      ],
      "execution_count": 12,
      "outputs": [
        {
          "output_type": "display_data",
          "data": {
            "image/png": "[encoded data removed]",
            "text/plain": [
              "<Figure size 1008x1296 with 1 Axes>"
            ]
          },
          "metadata": {
            "tags": []
          }
        }
      ]
    },
    {
      "cell_type": "code",
      "metadata": {
        "colab": {
          "base_uri": "https://localhost:8080/",
          "height": 166
        },
        "id": "Y_y9VMFb4dzY",
        "outputId": "b8dcff7e-794a-4b52-d6c7-35c7f4df684d"
      },
      "source": [
        "df.groupby([\"Promotion\"]).describe()[\"AgeOfStore\"]"
      ],
      "execution_count": 15,
      "outputs": [
        {
          "output_type": "execute_result",
          "data": {
            "text/html": [
              "<div>\n",
              "<style scoped>\n",
              "    .dataframe tbody tr th:only-of-type {\n",
              "        vertical-align: middle;\n",
              "    }\n",
              "\n",
              "    .dataframe tbody tr th {\n",
              "        vertical-align: top;\n",
              "    }\n",
              "\n",
              "    .dataframe thead th {\n",
              "        text-align: right;\n",
              "    }\n",
              "</style>\n",
              "<table border=\"1\" class=\"dataframe\">\n",
              "  <thead>\n",
              "    <tr style=\"text-align: right;\">\n",
              "      <th></th>\n",
              "      <th>count</th>\n",
              "      <th>mean</th>\n",
              "      <th>std</th>\n",
              "      <th>min</th>\n",
              "      <th>25%</th>\n",
              "      <th>50%</th>\n",
              "      <th>75%</th>\n",
              "      <th>max</th>\n",
              "    </tr>\n",
              "    <tr>\n",
              "      <th>Promotion</th>\n",
              "      <th></th>\n",
              "      <th></th>\n",
              "      <th></th>\n",
              "      <th></th>\n",
              "      <th></th>\n",
              "      <th></th>\n",
              "      <th></th>\n",
              "      <th></th>\n",
              "    </tr>\n",
              "  </thead>\n",
              "  <tbody>\n",
              "    <tr>\n",
              "      <th>1</th>\n",
              "      <td>172.0</td>\n",
              "      <td>8.279070</td>\n",
              "      <td>6.636160</td>\n",
              "      <td>1.0</td>\n",
              "      <td>3.0</td>\n",
              "      <td>6.0</td>\n",
              "      <td>12.0</td>\n",
              "      <td>27.0</td>\n",
              "    </tr>\n",
              "    <tr>\n",
              "      <th>2</th>\n",
              "      <td>188.0</td>\n",
              "      <td>7.978723</td>\n",
              "      <td>6.597648</td>\n",
              "      <td>1.0</td>\n",
              "      <td>3.0</td>\n",
              "      <td>7.0</td>\n",
              "      <td>10.0</td>\n",
              "      <td>28.0</td>\n",
              "    </tr>\n",
              "    <tr>\n",
              "      <th>3</th>\n",
              "      <td>188.0</td>\n",
              "      <td>9.234043</td>\n",
              "      <td>6.651646</td>\n",
              "      <td>1.0</td>\n",
              "      <td>5.0</td>\n",
              "      <td>8.0</td>\n",
              "      <td>12.0</td>\n",
              "      <td>24.0</td>\n",
              "    </tr>\n",
              "  </tbody>\n",
              "</table>\n",
              "</div>"
            ],
            "text/plain": [
              "           count      mean       std  min  25%  50%   75%   max\n",
              "Promotion                                                      \n",
              "1          172.0  8.279070  6.636160  1.0  3.0  6.0  12.0  27.0\n",
              "2          188.0  7.978723  6.597648  1.0  3.0  7.0  10.0  28.0\n",
              "3          188.0  9.234043  6.651646  1.0  5.0  8.0  12.0  24.0"
            ]
          },
          "metadata": {
            "tags": []
          },
          "execution_count": 15
        }
      ]
    },
    {
      "cell_type": "markdown",
      "metadata": {
        "id": "oTB6o3b98QdH"
      },
      "source": [
        "This table makes it easy to understand the overall store age distribution from our summary stats.\r\n",
        "\r\n",
        "All test groups have similar age profiles and the average store ages  is ~8 to 9 years old for theese 3 groups.\r\n",
        "\r\n",
        "The majority of the stores are 10–12 years old or even younger.\r\n",
        "\r\n",
        "We can see that the store profiles are similar to each other. \r\n",
        "\r\n",
        "This indicates that our sample groups are well controlled and the A/B testing results will be meaningful and trustworthy."
      ]
    },
    {
      "cell_type": "markdown",
      "metadata": {
        "id": "C_hjVhK98eWK"
      },
      "source": [
        "# Perform A/B Test"
      ]
    },
    {
      "cell_type": "markdown",
      "metadata": {
        "id": "9D2ft_kt8_ZZ"
      },
      "source": [
        "**T-Value**\r\n",
        "-measures the degree of difference relative to the variation in our data groups. Large T-value indicates a higher degree of difference between the groups. \r\n",
        "\r\n",
        "**p-value**\r\n",
        "-measures the probability that the results would occur by random chance. Therefore the smaller p-value is, the more statistically significant difference there will be between the two groups. "
      ]
    },
    {
      "cell_type": "code",
      "metadata": {
        "colab": {
          "base_uri": "https://localhost:8080/"
        },
        "id": "wIFcwubH8JJA",
        "outputId": "f95d8ad1-d29b-4be0-8a63-f69421d67a83"
      },
      "source": [
        "means = df.groupby([\"Promotion\"]).mean()[\"SalesInThousands\"]\r\n",
        "stds = df.groupby([\"Promotion\"]).std()[\"SalesInThousands\"]\r\n",
        "ns = df.groupby([\"Promotion\"]).count()[\"SalesInThousands\"]\r\n",
        "print(means)\r\n",
        "print(stds)\r\n",
        "print(ns)"
      ],
      "execution_count": 19,
      "outputs": [
        {
          "output_type": "stream",
          "text": [
            "Promotion\n",
            "1    58.099012\n",
            "2    47.329415\n",
            "3    55.364468\n",
            "Name: SalesInThousands, dtype: float64\n",
            "Promotion\n",
            "1    16.553782\n",
            "2    15.108955\n",
            "3    16.766231\n",
            "Name: SalesInThousands, dtype: float64\n",
            "Promotion\n",
            "1    172\n",
            "2    188\n",
            "3    188\n",
            "Name: SalesInThousands, dtype: int64\n"
          ],
          "name": "stdout"
        }
      ]
    },
    {
      "cell_type": "markdown",
      "metadata": {
        "id": "XgFVldgq94V5"
      },
      "source": [
        "# Compare Promotion 1 vs Promotion 2 in a A/B Test"
      ]
    },
    {
      "cell_type": "code",
      "metadata": {
        "colab": {
          "base_uri": "https://localhost:8080/"
        },
        "id": "hX1cClUP-Mlv",
        "outputId": "6d385bc0-9885-4a76-c90a-5689f719b899"
      },
      "source": [
        "from scipy import stats\r\n",
        "\r\n",
        "t, p = stats.ttest_ind(df.loc[df['Promotion'] == 1, 'SalesInThousands'].values,\r\n",
        "                       df.loc[df['Promotion'] == 2, 'SalesInThousands'].values, \r\n",
        "                       equal_var=False)\r\n",
        "print(\"t-value = \" +str(t))\r\n",
        "print(\"p-value = \" +str(p))"
      ],
      "execution_count": 21,
      "outputs": [
        {
          "output_type": "stream",
          "text": [
            "t-value = 6.42752867090748\n",
            "p-value = 4.2903687179871785e-10\n"
          ],
          "name": "stdout"
        }
      ]
    },
    {
      "cell_type": "markdown",
      "metadata": {
        "id": "Ge-84C2h_s1H"
      },
      "source": [
        "## Comments:\r\n",
        "Our **P-Value is close to 0** which suggests that there is good evidence to **REJECT the Null Hypothesis**. Meaning the there is a statistical difference between the two groups. Our threshold rejectings the Null is usually less than 0.05.\r\n",
        "\r\n",
        "Our **t-test** shows that the marketing performances for these two groups are significantly different and that promotion group 1 outperforms promotion group 2. \r\n",
        "\r\n"
      ]
    },
    {
      "cell_type": "markdown",
      "metadata": {
        "id": "IPX6u_8xABR4"
      },
      "source": [
        "# Compare Promotion 1 vs Promotion 3 in a A/B Test"
      ]
    },
    {
      "cell_type": "code",
      "metadata": {
        "colab": {
          "base_uri": "https://localhost:8080/"
        },
        "id": "mgQVJlU_-MiL",
        "outputId": "b186cf1c-80aa-4b27-cb5a-3391b80b991d"
      },
      "source": [
        "t, p = stats.ttest_ind(df.loc[df[\"Promotion\"]==1, \"SalesInThousands\"].values, \r\n",
        "                       df.loc[df[\"Promotion\"]==3, \"SalesInThousands\"].values,\r\n",
        "                       equal_var = False)\r\n",
        "\r\n",
        "print(\"t-value=\" + str(t))\r\n",
        "print(\"p-value=\" + str(p))"
      ],
      "execution_count": 22,
      "outputs": [
        {
          "output_type": "stream",
          "text": [
            "t-value=1.5560224307758634\n",
            "p-value=0.12059147742229478\n"
          ],
          "name": "stdout"
        }
      ]
    },
    {
      "cell_type": "markdown",
      "metadata": {
        "id": "SySEDd3cAeRr"
      },
      "source": [
        "## Comments\r\n",
        "We note that the average sales from promotion group 1 (58.1) is  higher than those from promotion group 2 (55.36). \r\n",
        "\r\n",
        "But, running a t-test between these two groups, gives us a t-value of 1.556 and a p-value of 0.121. \r\n",
        "\r\n",
        "The computed **p-value is a lot higher than 0.05**, past the threshold for statistical significance."
      ]
    },
    {
      "cell_type": "code",
      "metadata": {
        "id": "oBg67QZh-Mfi"
      },
      "source": [
        ""
      ],
      "execution_count": null,
      "outputs": []
    }
  ]
}