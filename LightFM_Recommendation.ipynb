{
  "nbformat": 4,
  "nbformat_minor": 0,
  "metadata": {
    "colab": {
      "name": "LightFM_Recommendation.ipynb",
      "provenance": [],
      "authorship_tag": "ABX9TyM18nmMwQ12ijEpTcaX+qNW",
      "include_colab_link": true
    },
    "kernelspec": {
      "name": "python3",
      "display_name": "Python 3"
    }
  },
  "cells": [
    {
      "cell_type": "markdown",
      "metadata": {
        "id": "view-in-github",
        "colab_type": "text"
      },
      "source": [
        "<a href=\"https://colab.research.google.com/github/wycui68/Case-Study/blob/main/LightFM_Recommendation.ipynb\" target=\"_parent\"><img src=\"https://colab.research.google.com/assets/colab-badge.svg\" alt=\"Open In Colab\"/></a>"
      ]
    },
    {
      "cell_type": "markdown",
      "metadata": {
        "id": "tcSpx4VHgxfJ"
      },
      "source": [
        "# Using LightFM for Movie Recommendation \n",
        "\n",
        "## W.Cui, Jan.2021\n",
        "\n",
        "Dataset:This is a classic small recommender dataset, consisting of around 950 users, 1700 movies, and 100,000 ratings. The ratings are on a scale from 1 to 5, but we’ll all treat them as implicit positive feedback in this example."
      ]
    },
    {
      "cell_type": "code",
      "metadata": {
        "id": "stt_BPPTaAHa",
        "colab": {
          "base_uri": "https://localhost:8080/"
        },
        "outputId": "f09b0ba7-1741-4547-fc27-50de156411d6"
      },
      "source": [
        "# install LightFM\n",
        "!pip install lightfm"
      ],
      "execution_count": 1,
      "outputs": [
        {
          "output_type": "stream",
          "text": [
            "Collecting lightfm\n",
            "\u001b[?25l  Downloading https://files.pythonhosted.org/packages/5e/fe/8864d723daa8e5afc74080ce510c30f7ad52facf6a157d4b42dec83dfab4/lightfm-1.16.tar.gz (310kB)\n",
            "\r\u001b[K     |█                               | 10kB 15.6MB/s eta 0:00:01\r\u001b[K     |██▏                             | 20kB 11.3MB/s eta 0:00:01\r\u001b[K     |███▏                            | 30kB 8.9MB/s eta 0:00:01\r\u001b[K     |████▎                           | 40kB 7.3MB/s eta 0:00:01\r\u001b[K     |█████▎                          | 51kB 4.5MB/s eta 0:00:01\r\u001b[K     |██████▍                         | 61kB 5.0MB/s eta 0:00:01\r\u001b[K     |███████▍                        | 71kB 5.0MB/s eta 0:00:01\r\u001b[K     |████████▌                       | 81kB 5.4MB/s eta 0:00:01\r\u001b[K     |█████████▌                      | 92kB 5.6MB/s eta 0:00:01\r\u001b[K     |██████████▋                     | 102kB 5.7MB/s eta 0:00:01\r\u001b[K     |███████████▋                    | 112kB 5.7MB/s eta 0:00:01\r\u001b[K     |████████████▊                   | 122kB 5.7MB/s eta 0:00:01\r\u001b[K     |█████████████▊                  | 133kB 5.7MB/s eta 0:00:01\r\u001b[K     |██████████████▉                 | 143kB 5.7MB/s eta 0:00:01\r\u001b[K     |███████████████▉                | 153kB 5.7MB/s eta 0:00:01\r\u001b[K     |█████████████████               | 163kB 5.7MB/s eta 0:00:01\r\u001b[K     |██████████████████              | 174kB 5.7MB/s eta 0:00:01\r\u001b[K     |███████████████████             | 184kB 5.7MB/s eta 0:00:01\r\u001b[K     |████████████████████            | 194kB 5.7MB/s eta 0:00:01\r\u001b[K     |█████████████████████▏          | 204kB 5.7MB/s eta 0:00:01\r\u001b[K     |██████████████████████▏         | 215kB 5.7MB/s eta 0:00:01\r\u001b[K     |███████████████████████▎        | 225kB 5.7MB/s eta 0:00:01\r\u001b[K     |████████████████████████▎       | 235kB 5.7MB/s eta 0:00:01\r\u001b[K     |█████████████████████████▍      | 245kB 5.7MB/s eta 0:00:01\r\u001b[K     |██████████████████████████▍     | 256kB 5.7MB/s eta 0:00:01\r\u001b[K     |███████████████████████████▌    | 266kB 5.7MB/s eta 0:00:01\r\u001b[K     |████████████████████████████▌   | 276kB 5.7MB/s eta 0:00:01\r\u001b[K     |█████████████████████████████▋  | 286kB 5.7MB/s eta 0:00:01\r\u001b[K     |██████████████████████████████▋ | 296kB 5.7MB/s eta 0:00:01\r\u001b[K     |███████████████████████████████▊| 307kB 5.7MB/s eta 0:00:01\r\u001b[K     |████████████████████████████████| 317kB 5.7MB/s \n",
            "\u001b[?25hRequirement already satisfied: numpy in /usr/local/lib/python3.6/dist-packages (from lightfm) (1.19.5)\n",
            "Requirement already satisfied: scipy>=0.17.0 in /usr/local/lib/python3.6/dist-packages (from lightfm) (1.4.1)\n",
            "Requirement already satisfied: requests in /usr/local/lib/python3.6/dist-packages (from lightfm) (2.23.0)\n",
            "Requirement already satisfied: scikit-learn in /usr/local/lib/python3.6/dist-packages (from lightfm) (0.22.2.post1)\n",
            "Requirement already satisfied: chardet<4,>=3.0.2 in /usr/local/lib/python3.6/dist-packages (from requests->lightfm) (3.0.4)\n",
            "Requirement already satisfied: idna<3,>=2.5 in /usr/local/lib/python3.6/dist-packages (from requests->lightfm) (2.10)\n",
            "Requirement already satisfied: urllib3!=1.25.0,!=1.25.1,<1.26,>=1.21.1 in /usr/local/lib/python3.6/dist-packages (from requests->lightfm) (1.24.3)\n",
            "Requirement already satisfied: certifi>=2017.4.17 in /usr/local/lib/python3.6/dist-packages (from requests->lightfm) (2020.12.5)\n",
            "Requirement already satisfied: joblib>=0.11 in /usr/local/lib/python3.6/dist-packages (from scikit-learn->lightfm) (1.0.0)\n",
            "Building wheels for collected packages: lightfm\n",
            "  Building wheel for lightfm (setup.py) ... \u001b[?25l\u001b[?25hdone\n",
            "  Created wheel for lightfm: filename=lightfm-1.16-cp36-cp36m-linux_x86_64.whl size=704275 sha256=50e8fd03376543d68b5e121291208a0acaba4818d3064b078dda0ef4205de189\n",
            "  Stored in directory: /root/.cache/pip/wheels/c6/64/d4/673c7277f71ac4c5ad4835b94708c01b653ef2d3aa78ef20aa\n",
            "Successfully built lightfm\n",
            "Installing collected packages: lightfm\n",
            "Successfully installed lightfm-1.16\n"
          ],
          "name": "stdout"
        }
      ]
    },
    {
      "cell_type": "code",
      "metadata": {
        "id": "ra2ONNtVg3xO"
      },
      "source": [
        "# Import our modules\n",
        "import numpy as np\n",
        "from lightfm.datasets import fetch_movielens\n",
        "from lightfm import LightFM"
      ],
      "execution_count": 2,
      "outputs": []
    },
    {
      "cell_type": "code",
      "metadata": {
        "colab": {
          "base_uri": "https://localhost:8080/"
        },
        "id": "m0rHZZ0WhQXA",
        "outputId": "373112e0-f4ff-463c-ce00-376d2cc8b52e"
      },
      "source": [
        "# Use one of LightFM's inbuild datasets, setting the minimum rating to return at over 4.0\n",
        "data = fetch_movielens(min_rating = 4.0)\n",
        "data"
      ],
      "execution_count": 3,
      "outputs": [
        {
          "output_type": "execute_result",
          "data": {
            "text/plain": [
              "{'item_feature_labels': array(['Toy Story (1995)', 'GoldenEye (1995)', 'Four Rooms (1995)', ...,\n",
              "        'Sliding Doors (1998)', 'You So Crazy (1994)',\n",
              "        'Scream of Stone (Schrei aus Stein) (1991)'], dtype=object),\n",
              " 'item_features': <1682x1682 sparse matrix of type '<class 'numpy.float32'>'\n",
              " \twith 1682 stored elements in Compressed Sparse Row format>,\n",
              " 'item_labels': array(['Toy Story (1995)', 'GoldenEye (1995)', 'Four Rooms (1995)', ...,\n",
              "        'Sliding Doors (1998)', 'You So Crazy (1994)',\n",
              "        'Scream of Stone (Schrei aus Stein) (1991)'], dtype=object),\n",
              " 'test': <943x1682 sparse matrix of type '<class 'numpy.int32'>'\n",
              " \twith 5469 stored elements in COOrdinate format>,\n",
              " 'train': <943x1682 sparse matrix of type '<class 'numpy.int32'>'\n",
              " \twith 49906 stored elements in COOrdinate format>}"
            ]
          },
          "metadata": {
            "tags": []
          },
          "execution_count": 3
        }
      ]
    },
    {
      "cell_type": "code",
      "metadata": {
        "colab": {
          "base_uri": "https://localhost:8080/"
        },
        "id": "aHOi1nDEhnNt",
        "outputId": "ef67a5c6-0929-45ea-fa49-9deb3a71179f"
      },
      "source": [
        "# Get our key and value from our dataset\n",
        "# By printing it, we see it's comprised of a data segments containing test, train, item_features, item_feature_labels & item_labels \n",
        "for key, value in data.items():\n",
        "    print(key, type(value), value.shape)"
      ],
      "execution_count": 4,
      "outputs": [
        {
          "output_type": "stream",
          "text": [
            "train <class 'scipy.sparse.coo.coo_matrix'> (943, 1682)\n",
            "test <class 'scipy.sparse.coo.coo_matrix'> (943, 1682)\n",
            "item_features <class 'scipy.sparse.csr.csr_matrix'> (1682, 1682)\n",
            "item_feature_labels <class 'numpy.ndarray'> (1682,)\n",
            "item_labels <class 'numpy.ndarray'> (1682,)\n"
          ],
          "name": "stdout"
        }
      ]
    },
    {
      "cell_type": "code",
      "metadata": {
        "colab": {
          "base_uri": "https://localhost:8080/"
        },
        "id": "SPwOL3pHiUYA",
        "outputId": "153ece77-ebd9-418b-b8bc-3f0406a1f40e"
      },
      "source": [
        "# What type of data are we working with? coo_matrix\n",
        "type(data['train'])"
      ],
      "execution_count": 5,
      "outputs": [
        {
          "output_type": "execute_result",
          "data": {
            "text/plain": [
              "scipy.sparse.coo.coo_matrix"
            ]
          },
          "metadata": {
            "tags": []
          },
          "execution_count": 5
        }
      ]
    },
    {
      "cell_type": "code",
      "metadata": {
        "colab": {
          "base_uri": "https://localhost:8080/"
        },
        "id": "VdPS15YZiUUU",
        "outputId": "f5d15e91-82f6-4332-8619-04adf1f68d94"
      },
      "source": [
        "# Each row represents a user, and each column an item. \n",
        "# We use .tocsr() to view it as a Compressed Sparse Row format, it's an inbuilt function in the coo_matrix object\n",
        "m1 = data['train'].tocsr()\n",
        "\n",
        "print(m1[0,0])\n",
        "print(m1[0,1])"
      ],
      "execution_count": 6,
      "outputs": [
        {
          "output_type": "stream",
          "text": [
            "5\n",
            "0\n"
          ],
          "name": "stdout"
        }
      ]
    },
    {
      "cell_type": "code",
      "metadata": {
        "colab": {
          "base_uri": "https://localhost:8080/"
        },
        "id": "1q310ggDiURB",
        "outputId": "0f0f2262-70af-4dfa-f277-09994bc70d96"
      },
      "source": [
        "print(repr(data['train'])) # rept() is used in debugging to get a string representation of object\n",
        "print(repr(data['test']))"
      ],
      "execution_count": 7,
      "outputs": [
        {
          "output_type": "stream",
          "text": [
            "<943x1682 sparse matrix of type '<class 'numpy.int32'>'\n",
            "\twith 49906 stored elements in COOrdinate format>\n",
            "<943x1682 sparse matrix of type '<class 'numpy.int32'>'\n",
            "\twith 5469 stored elements in COOrdinate format>\n"
          ],
          "name": "stdout"
        }
      ]
    },
    {
      "cell_type": "markdown",
      "metadata": {
        "id": "TRXUxPM2iwOe"
      },
      "source": [
        "# Train the model \n",
        "\n",
        "##**Four loss functions are available:**\n",
        "\n",
        "- **logistic**: useful when both positive (1) and negative (-1) interactions are present.\n",
        "- **BPR**: Bayesian Personalised Ranking pairwise loss. Maximises the prediction difference between a positive example and a randomly chosen negative example. Useful when only positive interactions are present and optimising ROC AUC is desired.\n",
        "- **WARP**: Weighted Approximate-Rank Pairwise loss. Maximises the rank of positive examples by repeatedly sampling negative examples until rank violating one is found. Useful when only positive interactions are present and optimising the top of the recommendation list (precision@k) is desired.\n",
        "- **k-OS WARP**: k-th order statistic loss. A modification of WARP that uses the k-th positive example for any given user as a basis for pairwise updates.\n",
        "\n",
        "**Two learning rate schedules are available:**\n",
        "- adagrad\n",
        "- adadelta"
      ]
    },
    {
      "cell_type": "code",
      "metadata": {
        "id": "VJimRw7eiThO"
      },
      "source": [
        "# Creat our model object from LightFM\n",
        "# We specify the loss type to be WARP (Weighted Approximate-Rank Pairwise )\n",
        "model = LightFM(loss = 'warp')"
      ],
      "execution_count": 8,
      "outputs": []
    },
    {
      "cell_type": "code",
      "metadata": {
        "id": "SaQ7jNVsi30Z"
      },
      "source": [
        "# Extract our training and test datasets\n",
        "train = data['train']\n",
        "test = data['test']"
      ],
      "execution_count": 9,
      "outputs": []
    },
    {
      "cell_type": "code",
      "metadata": {
        "colab": {
          "base_uri": "https://localhost:8080/"
        },
        "id": "a0C0NLS6i53J",
        "outputId": "9b875ca1-d8f9-42e5-a81a-58341c7a27b0"
      },
      "source": [
        "# Fit our model over 10 epochs\n",
        "model.fit(train, epochs=10)"
      ],
      "execution_count": 10,
      "outputs": [
        {
          "output_type": "execute_result",
          "data": {
            "text/plain": [
              "<lightfm.lightfm.LightFM at 0x7f6975ad1a90>"
            ]
          },
          "metadata": {
            "tags": []
          },
          "execution_count": 10
        }
      ]
    },
    {
      "cell_type": "markdown",
      "metadata": {
        "id": "1K88Ikbhi-EN"
      },
      "source": [
        "# Performance Evaluation \n",
        "\n",
        "We use Precision and AUC to avaluate our model performance.\n",
        "\n",
        "**The ROC AUC metric for a model**: the probability that a randomly chosen positive example has a higher score than a randomly chosen negative example. A perfect score is 1.0.\n",
        "\n",
        "**The precision at k metric for a model**: the fraction of known positives in the first k positions of the ranked list of results. A perfect score is 1.0."
      ]
    },
    {
      "cell_type": "code",
      "metadata": {
        "colab": {
          "base_uri": "https://localhost:8080/"
        },
        "id": "J1-0vWNmi75q",
        "outputId": "67c4502f-89d8-4c52-8827-d13c31c32571"
      },
      "source": [
        "# Evaluate it's performance\n",
        "from lightfm.evaluation import precision_at_k\n",
        "from lightfm.evaluation import auc_score\n",
        "\n",
        "train_precision = precision_at_k(model, train, k=10).mean()\n",
        "test_precision = precision_at_k(model, test, k=10).mean()\n",
        "\n",
        "train_auc = auc_score(model, train).mean()\n",
        "test_auc = auc_score(model, test).mean()\n",
        "\n",
        "print('Precision: train %.2f, test %.2f.' % (train_precision, test_precision))\n",
        "print('AUC: train %.2f, test %.2f.' % (train_auc, test_auc))"
      ],
      "execution_count": 11,
      "outputs": [
        {
          "output_type": "stream",
          "text": [
            "Precision: train 0.49, test 0.08.\n",
            "AUC: train 0.94, test 0.91.\n"
          ],
          "name": "stdout"
        }
      ]
    },
    {
      "cell_type": "markdown",
      "metadata": {
        "id": "F1Jt3flejJpK"
      },
      "source": [
        "# What movies are recommended to the users?"
      ]
    },
    {
      "cell_type": "code",
      "metadata": {
        "id": "rna1s-iDjP_c"
      },
      "source": [
        "# Function credit goes to Arun Mathew Kurian\n",
        "# Let's test it out and see how well it works \n",
        "# https://towardsdatascience.com/how-to-build-a-movie-recommender-system-in-python-using-lightfm-8fa49d7cbe3b\n",
        "def sample_recommendation(model, data, user_ids):\n",
        "    '''uses model, data and a list of users ideas and outputs the recommended movies along with known positives for each user'''\n",
        "    n_users, n_items = data['train'].shape\n",
        "    for user_id in user_ids:\n",
        "        known_positives = data['item_labels'][data['train'].tocsr()[user_id].indices]\n",
        "        \n",
        "        scores = model.predict(user_id, np.arange(n_items))\n",
        "\n",
        "        top_items = data['item_labels'][np.argsort(-scores)]\n",
        "      \n",
        "        print(\"User %s\" % user_id)\n",
        "        print(\"Known positives:\")\n",
        "        \n",
        "        # Print the first 3 known positives\n",
        "        for x in known_positives[:3]:\n",
        "            print(\"%s\" % x)\n",
        "        \n",
        "        # Print the first 3 recommended movies\n",
        "        print(\"Recommended:\")\n",
        "        for x in top_items[:3]:\n",
        "            print(\"%s\" % x)\n",
        "        print(\"\\n\")"
      ],
      "execution_count": 12,
      "outputs": []
    },
    {
      "cell_type": "code",
      "metadata": {
        "colab": {
          "base_uri": "https://localhost:8080/"
        },
        "id": "4fFkokRPjHav",
        "outputId": "52557835-3c72-4ffb-ed02-3678ad784580"
      },
      "source": [
        "# Testing on users 6, 125 and 336\n",
        "sample_recommendation(model, data, [6, 125, 336])"
      ],
      "execution_count": 13,
      "outputs": [
        {
          "output_type": "stream",
          "text": [
            "User 6\n",
            "Known positives:\n",
            "Get Shorty (1995)\n",
            "Twelve Monkeys (1995)\n",
            "Babe (1995)\n",
            "Recommended:\n",
            "Raiders of the Lost Ark (1981)\n",
            "Silence of the Lambs, The (1991)\n",
            "Jaws (1975)\n",
            "\n",
            "\n",
            "User 125\n",
            "Known positives:\n",
            "Jungle2Jungle (1997)\n",
            "Kull the Conqueror (1997)\n",
            "Scream (1996)\n",
            "Recommended:\n",
            "Air Force One (1997)\n",
            "Seven Years in Tibet (1997)\n",
            "Scream (1996)\n",
            "\n",
            "\n",
            "User 336\n",
            "Known positives:\n",
            "Mr. Holland's Opus (1995)\n",
            "Star Wars (1977)\n",
            "Ace Ventura: Pet Detective (1994)\n",
            "Recommended:\n",
            "Return of the Jedi (1983)\n",
            "Star Wars (1977)\n",
            "Rock, The (1996)\n",
            "\n",
            "\n"
          ],
          "name": "stdout"
        }
      ]
    },
    {
      "cell_type": "code",
      "metadata": {
        "id": "GDs8EYj6jXFt"
      },
      "source": [
        ""
      ],
      "execution_count": null,
      "outputs": []
    }
  ]
}